{
 "cells": [
  {
   "cell_type": "code",
   "execution_count": null,
   "metadata": {},
   "outputs": [],
   "source": [
    "import time\n",
    "import random\n",
    "guesses = []\n",
    "count = 0\n",
    "liste = ['python', 'aihub', 'merhaba', 'türkiye']\n",
    "ans = random.choice(liste)\n",
    "uzunluk = len(ans)\n",
    "\n",
    "ad = input(\"Adınızı Yazınız:\")\n",
    "print(\"Hoşgeldin {}!\" .format (ad) + \" \" + \" \" + \"10 tahmin hakkınız var.\")\n",
    "print(\"Tahmin edeceğiniz {}\" .format (uzunluk) + \"  \" \"harfli bir kelime, başlıyor...\")\n",
    "time.sleep(3)\n",
    "while count < 10:\n",
    "    guess = input(\"Bir harf yazınız (Eğer tahmin ettiyseniz kelimeyi yazınız): \")\n",
    "    guesses.append(guess)\n",
    "    if ''.join(guess) == ans:\n",
    "        print('Tebrikler Kazandınız!!!')\n",
    "        break\n",
    "\n",
    "    else:\n",
    "        for char in ans:\n",
    "            if char in guesses:\n",
    "                guesses.append(char)\n",
    "                print(char)\n",
    "            else:\n",
    "                print('*')\n",
    "        count += 1\n",
    "else:\n",
    "    print('\\nKaybettiniz :((((')"
   ]
  }
 ],
 "metadata": {
  "kernelspec": {
   "display_name": "Python 3",
   "language": "python",
   "name": "python3"
  },
  "language_info": {
   "codemirror_mode": {
    "name": "ipython",
    "version": 3
   },
   "file_extension": ".py",
   "mimetype": "text/x-python",
   "name": "python",
   "nbconvert_exporter": "python",
   "pygments_lexer": "ipython3",
   "version": "3.8.5"
  }
 },
 "nbformat": 4,
 "nbformat_minor": 4
}
