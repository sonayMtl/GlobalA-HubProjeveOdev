{
 "cells": [
  {
   "cell_type": "code",
   "execution_count": null,
   "metadata": {},
   "outputs": [],
   "source": [
    "userad = input(\"İsminiz nedir? \")\n",
    "usersoyad = input(\"Soyadınız nedir? \")\n",
    "useryas = int(input(\"Yaşınız kaç?\"))\n",
    "userboy = float(input(\"Boyunuz kaç (m)? \"))\n",
    "userkilo = int(input(\"Kilonuz kaç (kg)? \")) ;\\\n",
    "\n",
    "\n",
    "print(\"Adı:{} Soyadı:{}  Yaşı:{}  Boyu:{}cm  Kiloso:{}kg\".format(userad, usersoyad, int(useryas), userboy, userkilo))\n",
    "\n",
    "ad = type(userad)\n",
    "soyad = type(usersoyad)\n",
    "yas = type(useryas)\n",
    "boy = type(userboy)\n",
    "kilo = type(userkilo)\n",
    "\n",
    "print(f'Adı:{ad}')\n",
    "print(f'Soyadı:{soyad}')\n",
    "print(f'Yaşı:{yas}')\n",
    "print(f'Boyu:{boy}')\n",
    "print(f'Kilosu:{kilo}')"
   ]
  }
 ],
 "metadata": {
  "kernelspec": {
   "display_name": "Python 3",
   "language": "python",
   "name": "python3"
  },
  "language_info": {
   "codemirror_mode": {
    "name": "ipython",
    "version": 3
   },
   "file_extension": ".py",
   "mimetype": "text/x-python",
   "name": "python",
   "nbconvert_exporter": "python",
   "pygments_lexer": "ipython3",
   "version": "3.8.5"
  }
 },
 "nbformat": 4,
 "nbformat_minor": 4
}
