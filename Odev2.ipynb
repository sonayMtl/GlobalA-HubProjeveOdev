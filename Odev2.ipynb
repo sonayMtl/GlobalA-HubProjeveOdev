{
 "cells": [
  {
   "cell_type": "code",
   "execution_count": null,
   "metadata": {},
   "outputs": [],
   "source": [
    "userfname = input(\"İsminiz:\")\n",
    "userlastname = input(\"Soyadınız:\")\n",
    "userage = int(input(\"Yaşınız:\"))\n",
    "userdob = int(input(\"Doğum Tarihi (yıl):\"))\n",
    "\n",
    "\n",
    "mylist = [userfname, userlastname, userage, userdob]\n",
    "print(mylist)\n",
    "for i in mylist:\n",
    "    if userage <= 18:\n",
    "        print(\"Dışarı çıkamazsın çok tehlikeli\")\n",
    "        break\n",
    "    else:\n",
    "        print(\"Dışarı çıkabilirsin\")\n",
    "        break"
   ]
  }
 ],
 "metadata": {
  "kernelspec": {
   "display_name": "Python 3",
   "language": "python",
   "name": "python3"
  },
  "language_info": {
   "codemirror_mode": {
    "name": "ipython",
    "version": 3
   },
   "file_extension": ".py",
   "mimetype": "text/x-python",
   "name": "python",
   "nbconvert_exporter": "python",
   "pygments_lexer": "ipython3",
   "version": "3.8.5"
  }
 },
 "nbformat": 4,
 "nbformat_minor": 4
}
